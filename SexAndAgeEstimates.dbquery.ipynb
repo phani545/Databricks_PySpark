{
 "cells": [
  {
   "cell_type": "code",
   "execution_count": 0,
   "metadata": {
    "application/vnd.databricks.v1+cell": {
     "cellMetadata": {},
     "inputWidgets": {},
     "nuid": "b64dd313-f8de-4da7-9ad1-0b694f4e8e4d",
     "showTitle": false,
     "tableResultSettingsMap": {},
     "title": ""
    }
   },
   "outputs": [],
   "source": [
    "DROP TABLE IF EXISTS edp_prod.SilverLayer_base.SexAndAgeEstimates;\n",
    "\n",
    "CREATE TABLE edp_prod.SilverLayer_base.SexAndAgeEstimates\n",
    "(\n",
    "  SexAndAgeEstimateID BIGINT NOT NULL GENERATED ALWAYS AS IDENTITY (START WITH -9223372036854775807 INCREMENT BY 1),\n",
    "  CensusTractID BIGINT NOT NULL,\n",
    "  TotalPopulation INT,\n",
    "  MalePopulation INT,\n",
    "  FemalePopulation INT,  \n",
    "  PopulationUnder5Years INT,\n",
    "  Population5to9Years INT,\n",
    "  Population10To14Years INT,\n",
    "  Population15To19Years INT,\n",
    "  Population20To24Years INT,\n",
    "  Population25To34Years INT,\n",
    "  Population35To44Years INT,\n",
    "  Population45To54Years INT,\n",
    "  Population55To59Years INT,\n",
    "  Population60To64Years INT,\n",
    "  Population65To74Years INT,\n",
    "  Population75To84Years INT,\n",
    "  PopulationOver84Years INT,\n",
    "  PopulationUnder18Years INT,\n",
    "  PopulationOver17Years INT,\n",
    "  PopulationOver64Years INT,\n",
    "  MalePopulationOver17Years INT,\n",
    "  FemalePopulationOver17Years INT,\n",
    "  MalePopulationOver64Years INT,\n",
    "  FemalePopulationOver64Years INT,\n",
    "  LastUpdateTimestamp TIMESTAMP,\n",
    "  HashValue INT,\n",
    "  IsDeleted BOOLEAN\n",
    "  )\n",
    "USING DELTA\n",
    "TBLPROPERTIES\n",
    "(\n",
    " 'delta.enableChangeDataFeed'='true',\n",
    " 'delta.enableDeletionVectors' = 'true',\n",
    " 'delta.enableRowTracking' = 'true',\n",
    " 'delta.autoOptimize.optimizeWrite' = 'true',\n",
    " 'delta.autoOptimize.autoCompact' = 'true',\n",
    " 'delta.columnMapping.mode' = 'name',\n",
    " 'quality'='Silver' \n",
    ");\n",
    "\n",
    "\n",
    "----*********  Primary Key Definitions *********\n",
    "ALTER TABLE edp_prod.silverlayer_base.SexAndAgeEstimates\n",
    " ADD CONSTRAINT PK__silverlayer_base__SexAndAgeEstimates__SexAndAgeEstimateID PRIMARY KEY (SexAndAgeEstimateID);\n",
    "\n",
    "----*********  Foreign Key Definitions *********\n",
    "ALTER TABLE edp_prod.silverlayer_base.SexAndAgeEstimates\n",
    " ADD CONSTRAINT FK__silverlayer_base__SexAndAgeEstimates__CensusTractID FOREIGN KEY (CensusTractID)\n",
    " REFERENCES edp_prod.silverlayer_base.CensusTract (CensusTractID);\n",
    "\n",
    "\n"
   ]
  }
 ],
 "metadata": {
  "application/vnd.databricks.v1+notebook": {
   "computePreferences": null,
   "dashboards": [],
   "environmentMetadata": null,
   "inputWidgetPreferences": null,
   "language": "sql",
   "notebookMetadata": {
    "sqlQueryOptions": {
     "applyAutoLimit": true,
     "catalog": "hive_metastore",
     "schema": "default"
    }
   },
   "notebookName": "SexAndAgeEstimates.dbquery.ipynb",
   "widgets": {}
  },
  "language_info": {
   "name": "sql"
  }
 },
 "nbformat": 4,
 "nbformat_minor": 0
}
