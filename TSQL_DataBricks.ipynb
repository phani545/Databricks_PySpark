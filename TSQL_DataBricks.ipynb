{
 "cells": [
  {
   "cell_type": "code",
   "execution_count": 0,
   "metadata": {
    "application/vnd.databricks.v1+cell": {
     "cellMetadata": {
      "byteLimit": 2048000,
      "rowLimit": 10000
     },
     "inputWidgets": {},
     "nuid": "d3fe402f-1959-4ffa-ad3d-fcb693d82c35",
     "showTitle": false,
     "tableResultSettingsMap": {},
     "title": ""
    }
   },
   "outputs": [],
   "source": [
    "%pip install sqlglot\n",
    "%pip install langchain_core\n",
    "%pip install nbformat"
   ]
  },
  {
   "cell_type": "code",
   "execution_count": 0,
   "metadata": {
    "application/vnd.databricks.v1+cell": {
     "cellMetadata": {
      "byteLimit": 2048000,
      "rowLimit": 10000
     },
     "inputWidgets": {},
     "nuid": "aaa83715-4058-40ee-aca0-e6a5d7b2b425",
     "showTitle": false,
     "tableResultSettingsMap": {},
     "title": ""
    }
   },
   "outputs": [],
   "source": [
    "dbutils.library.restartPython()"
   ]
  },
  {
   "cell_type": "code",
   "execution_count": 0,
   "metadata": {
    "application/vnd.databricks.v1+cell": {
     "cellMetadata": {
      "byteLimit": 2048000,
      "rowLimit": 10000
     },
     "inputWidgets": {},
     "nuid": "fc59cb83-c9f5-4d0f-ab1d-249ec7cfa056",
     "showTitle": false,
     "tableResultSettingsMap": {},
     "title": ""
    }
   },
   "outputs": [],
   "source": [
    "import sqlglot\n",
    "import os"
   ]
  },
  {
   "cell_type": "code",
   "execution_count": 0,
   "metadata": {
    "application/vnd.databricks.v1+cell": {
     "cellMetadata": {
      "byteLimit": 2048000,
      "rowLimit": 10000
     },
     "inputWidgets": {},
     "nuid": "1c1e8a77-d5cc-499d-96af-b5b08612bcf6",
     "showTitle": false,
     "tableResultSettingsMap": {},
     "title": ""
    }
   },
   "outputs": [],
   "source": [
    "dbutils.widgets.text(\"input_sql_dir1\", \"/Workspace/Users/pxchall2@sentara.com/InPut_SPs\", \"The location of the SQL files to be converted\")\n",
    "dbutils.widgets.text(\"output_dir1\", \"/Workspace/Users/pxchall2@sentara.com/OutPut_SPs\", \"The output location for the notebooks\")\n"
   ]
  },
  {
   "cell_type": "code",
   "execution_count": 0,
   "metadata": {
    "application/vnd.databricks.v1+cell": {
     "cellMetadata": {
      "byteLimit": 2048000,
      "rowLimit": 10000
     },
     "inputWidgets": {},
     "nuid": "3257cea9-0caf-4ac2-80fd-e70f53e80944",
     "showTitle": false,
     "tableResultSettingsMap": {},
     "title": ""
    }
   },
   "outputs": [],
   "source": [
    "import os\n",
    "\n",
    "# Get the paths from the widgets\n",
    "proc_dir = dbutils.widgets.get(\"input_sql_dir1\")\n",
    "output_folder = dbutils.widgets.get(\"output_dir1\")\n",
    "\n",
    "# List files in the DBFS directory\n",
    "procs = os.listdir(proc_dir)\n",
    "procs.sort()\n",
    "procs"
   ]
  },
  {
   "cell_type": "code",
   "execution_count": 0,
   "metadata": {
    "application/vnd.databricks.v1+cell": {
     "cellMetadata": {
      "byteLimit": 2048000,
      "rowLimit": 10000
     },
     "inputWidgets": {},
     "nuid": "a7380820-b048-4ca4-88d9-c30b1fef839e",
     "showTitle": false,
     "tableResultSettingsMap": {},
     "title": ""
    }
   },
   "outputs": [],
   "source": [
    "import chardet\n",
    "with open(proc_dir + \"/\" + procs[0], 'rb') as file:\n",
    "    raw = file.read(32) \n",
    "    encoding = chardet.detect(raw)['encoding']\n",
    "\n",
    "print(encoding)"
   ]
  },
  {
   "cell_type": "code",
   "execution_count": 0,
   "metadata": {
    "application/vnd.databricks.v1+cell": {
     "cellMetadata": {
      "byteLimit": 2048000,
      "rowLimit": 10000
     },
     "inputWidgets": {},
     "nuid": "ef6f66e9-70bb-43a6-bdbd-7fd15c678ea3",
     "showTitle": false,
     "tableResultSettingsMap": {},
     "title": ""
    }
   },
   "outputs": [],
   "source": [
    "from pathlib import Path\n",
    "\n",
    "parsed_code = {}\n",
    "for procedure_name in procs:\n",
    "  with open(os.path.join(proc_dir, procedure_name), encoding=encoding) as content_file:\n",
    "    code = content_file.read()\n",
    "    try:\n",
    "      print(\"parsing code for {0}\".format(procedure_name))\n",
    "      parsed_code[procedure_name] = sqlglot.parse(code, read=\"tsql\")\n",
    "    except Exception as e:\n",
    "      print(f\"Unable to parse {procedure_name} - {e}\")"
   ]
  },
  {
   "cell_type": "code",
   "execution_count": 0,
   "metadata": {
    "application/vnd.databricks.v1+cell": {
     "cellMetadata": {
      "byteLimit": 2048000,
      "rowLimit": 10000
     },
     "inputWidgets": {},
     "nuid": "591243db-53c7-4a4b-ab12-c04d2368ce19",
     "showTitle": false,
     "tableResultSettingsMap": {},
     "title": ""
    }
   },
   "outputs": [],
   "source": [
    "len(parsed_code)"
   ]
  },
  {
   "cell_type": "code",
   "execution_count": 0,
   "metadata": {
    "application/vnd.databricks.v1+cell": {
     "cellMetadata": {
      "byteLimit": 2048000,
      "rowLimit": 10000
     },
     "inputWidgets": {},
     "nuid": "201db75f-d363-4983-9c64-184d724e65bf",
     "showTitle": false,
     "tableResultSettingsMap": {},
     "title": ""
    }
   },
   "outputs": [],
   "source": [
    "for k,v in parsed_code.items():\n",
    "  print(type(v))\n",
    "  print(v)"
   ]
  },
  {
   "cell_type": "code",
   "execution_count": 0,
   "metadata": {
    "application/vnd.databricks.v1+cell": {
     "cellMetadata": {
      "byteLimit": 2048000,
      "rowLimit": 10000
     },
     "inputWidgets": {},
     "nuid": "0ccb9a98-1a6c-450d-8116-3f0cead9b4f1",
     "showTitle": false,
     "tableResultSettingsMap": {},
     "title": ""
    }
   },
   "outputs": [],
   "source": [
    "declare_statement = \"\"\n",
    "for procedure_name,code in parsed_code.items():\n",
    "  for item in code:\n",
    "    declarations = item.find_all(sqlglot.exp.DeclareItem)\n",
    "    for declaration in declarations:\n",
    "      print(declaration)\n",
    "      declare_statement += \"DECLARE {0} {1};\".format(declaration.this.name, declaration.args[\"kind\"].sql())\n",
    "print(declare_statement)"
   ]
  },
  {
   "cell_type": "code",
   "execution_count": 0,
   "metadata": {
    "application/vnd.databricks.v1+cell": {
     "cellMetadata": {
      "byteLimit": 2048000,
      "rowLimit": 10000
     },
     "inputWidgets": {},
     "nuid": "cf332730-9aaa-4460-bab3-fde030fcc330",
     "showTitle": false,
     "tableResultSettingsMap": {},
     "title": ""
    }
   },
   "outputs": [],
   "source": [
    "statements = []\n",
    "i = 0\n",
    "for procedure_name,code in parsed_code.items():\n",
    "  for s in code:\n",
    "    # if (isinstance(s, sqlglot.expressions.Create)) or (isinstance(s, sqlglot.expressions.Declare)):\n",
    "    statements.append(s)\n",
    "    i = i + 1"
   ]
  },
  {
   "cell_type": "code",
   "execution_count": 0,
   "metadata": {
    "application/vnd.databricks.v1+cell": {
     "cellMetadata": {
      "byteLimit": 2048000,
      "rowLimit": 10000
     },
     "inputWidgets": {},
     "nuid": "5eb1000b-679d-45b9-b9fe-35fdbcaf9242",
     "showTitle": false,
     "tableResultSettingsMap": {},
     "title": ""
    }
   },
   "outputs": [],
   "source": [
    "len(statements)"
   ]
  },
  {
   "cell_type": "code",
   "execution_count": 0,
   "metadata": {
    "application/vnd.databricks.v1+cell": {
     "cellMetadata": {
      "byteLimit": 2048000,
      "rowLimit": 10000
     },
     "inputWidgets": {},
     "nuid": "246b19f2-bf13-41c4-9cd7-979a36a2ec04",
     "showTitle": false,
     "tableResultSettingsMap": {},
     "title": ""
    }
   },
   "outputs": [],
   "source": [
    "for c in statements:\n",
    "  print(type(c))"
   ]
  },
  {
   "cell_type": "code",
   "execution_count": 0,
   "metadata": {
    "application/vnd.databricks.v1+cell": {
     "cellMetadata": {},
     "inputWidgets": {},
     "nuid": "f060d876-a3a9-417f-a29a-3a1dcb34ddec",
     "showTitle": false,
     "tableResultSettingsMap": {},
     "title": ""
    }
   },
   "outputs": [],
   "source": []
  }
 ],
 "metadata": {
  "application/vnd.databricks.v1+notebook": {
   "computePreferences": null,
   "dashboards": [],
   "environmentMetadata": {
    "base_environment": "",
    "environment_version": "2"
   },
   "inputWidgetPreferences": null,
   "language": "python",
   "notebookMetadata": {
    "pythonIndentUnit": 4
   },
   "notebookName": "TSQL_DataBricks",
   "widgets": {
    "input_sql_dir": {
     "currentValue": "C:\\Users\\PXCHALL2\\OneDrive - Sentara Health\\project\\EDP\\storeproc\\\\",
     "nuid": "92135b5d-0b86-4891-9c66-443ebd3f8b62",
     "typedWidgetInfo": {
      "autoCreated": false,
      "defaultValue": "/Workspace/Users/pxchall2@sentara.com/InPut_SPs",
      "label": "The location of the SQL files to be converted",
      "name": "input_sql_dir",
      "options": {
       "widgetDisplayType": "Text",
       "validationRegex": null
      },
      "parameterDataType": "String"
     },
     "widgetInfo": {
      "widgetType": "text",
      "defaultValue": "/Workspace/Users/pxchall2@sentara.com/InPut_SPs",
      "label": "The location of the SQL files to be converted",
      "name": "input_sql_dir",
      "options": {
       "widgetType": "text",
       "autoCreated": null,
       "validationRegex": null
      }
     }
    },
    "input_sql_dir1": {
     "currentValue": "/Workspace/Users/pxchall2@sentara.com/InPut_SPs",
     "nuid": "5640926c-605d-4f8b-9954-3e87c2dee0ff",
     "typedWidgetInfo": {
      "autoCreated": false,
      "defaultValue": "/Workspace/Users/pxchall2@sentara.com/InPut_SPs",
      "label": "The location of the SQL files to be converted",
      "name": "input_sql_dir1",
      "options": {
       "widgetDisplayType": "Text",
       "validationRegex": null
      },
      "parameterDataType": "String"
     },
     "widgetInfo": {
      "widgetType": "text",
      "defaultValue": "/Workspace/Users/pxchall2@sentara.com/InPut_SPs",
      "label": "The location of the SQL files to be converted",
      "name": "input_sql_dir1",
      "options": {
       "widgetType": "text",
       "autoCreated": false,
       "validationRegex": null
      }
     }
    },
    "output_dir": {
     "currentValue": "C:\\Users\\PXCHALL2\\OneDrive - Sentara Health\\project\\EDP\\DB_Storedproc\\\\",
     "nuid": "9d338f0c-2b3b-4da7-b4d8-ed2449287767",
     "typedWidgetInfo": {
      "autoCreated": false,
      "defaultValue": "/Workspace/Users/pxchall2@sentara.com/OutPut_SPs",
      "label": "The output location for the notebooks",
      "name": "output_dir",
      "options": {
       "widgetDisplayType": "Text",
       "validationRegex": null
      },
      "parameterDataType": "String"
     },
     "widgetInfo": {
      "widgetType": "text",
      "defaultValue": "/Workspace/Users/pxchall2@sentara.com/OutPut_SPs",
      "label": "The output location for the notebooks",
      "name": "output_dir",
      "options": {
       "widgetType": "text",
       "autoCreated": null,
       "validationRegex": null
      }
     }
    },
    "output_dir1": {
     "currentValue": "/Workspace/Users/pxchall2@sentara.com/OutPut_SPs",
     "nuid": "082e83aa-884f-4eb2-910e-1122eaeef572",
     "typedWidgetInfo": {
      "autoCreated": false,
      "defaultValue": "/Workspace/Users/pxchall2@sentara.com/OutPut_SPs",
      "label": "The output location for the notebooks",
      "name": "output_dir1",
      "options": {
       "widgetDisplayType": "Text",
       "validationRegex": null
      },
      "parameterDataType": "String"
     },
     "widgetInfo": {
      "widgetType": "text",
      "defaultValue": "/Workspace/Users/pxchall2@sentara.com/OutPut_SPs",
      "label": "The output location for the notebooks",
      "name": "output_dir1",
      "options": {
       "widgetType": "text",
       "autoCreated": false,
       "validationRegex": null
      }
     }
    }
   }
  },
  "language_info": {
   "name": "python"
  }
 },
 "nbformat": 4,
 "nbformat_minor": 0
}
